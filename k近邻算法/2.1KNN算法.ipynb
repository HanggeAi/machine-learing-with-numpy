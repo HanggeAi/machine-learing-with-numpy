{
 "cells": [
  {
   "cell_type": "code",
   "execution_count": 4,
   "metadata": {},
   "outputs": [
    {
     "data": {
      "text/plain": [
       "'a'"
      ]
     },
     "execution_count": 4,
     "metadata": {},
     "output_type": "execute_result"
    }
   ],
   "source": [
    "# 首先生成数据\n",
    "import numpy as np\n",
    "\n",
    "\n",
    "def createData():\n",
    "    group=np.array([\n",
    "        [1.0,1.1],\n",
    "        [1.0,1.0],\n",
    "        [0,0],\n",
    "        [0,0.1]\n",
    "    ])\n",
    "    labels=np.array(['a','a','b','b'])\n",
    "    return group,labels\n",
    "\n",
    "\n",
    "def classify0(X, dataSet, labels, k):\n",
    "    \"\"\"\n",
    "    X:待测样本,待分类样本\n",
    "    dataSet:已有样本数据\n",
    "    labels:已有样本标签\n",
    "    k:近邻个数\n",
    "    \"\"\"\n",
    "    # 计算距离\n",
    "    diffMat = dataSet-X    # 利用广播，计算差\n",
    "    diffSquare = diffMat**2    # 各项平方\n",
    "    distances = np.sqrt(diffSquare.sum(axis=1))    # 求和 然后开方\n",
    "\n",
    "    # 按照距离，从小到大排序\n",
    "    disIdx = distances.argsort()\n",
    "\n",
    "    classCount = {}    # 用于保存每一类的样本个数（前k个之中）\n",
    "    for i in range(k):\n",
    "        label = labels[disIdx[i]]    # 第I个样本的标签\n",
    "        classCount[label] = classCount.get(label, 0)+1    # 字典获取label对应的值，自增1\n",
    "\n",
    "    keys = np.array([key for key in classCount.keys()])\n",
    "    value = np.array([val for val in classCount.values()])\n",
    "\n",
    "    val_argsort = value.argmax()\n",
    "    return keys[val_argsort][0]\n",
    "\n",
    "\n",
    "X,y=createData()\n",
    "out=classify0(np.array([1.11,1.21]),X,y,k=3)\n",
    "out\n"
   ]
  },
  {
   "cell_type": "code",
   "execution_count": 5,
   "metadata": {},
   "outputs": [
    {
     "data": {
      "text/plain": [
       "'b'"
      ]
     },
     "execution_count": 5,
     "metadata": {},
     "output_type": "execute_result"
    }
   ],
   "source": [
    "out1 = classify0(np.array([0.1,0.02]), X, y, k=3)\n",
    "out1"
   ]
  },
  {
   "cell_type": "markdown",
   "metadata": {},
   "source": [
    "注：代码与书上有些地方的实现方法不同，使用了我认为更加简单的方式，但是整体步骤是一样的"
   ]
  },
  {
   "cell_type": "markdown",
   "metadata": {},
   "source": []
  }
 ],
 "metadata": {
  "kernelspec": {
   "display_name": "Python 3.9.7 ('base')",
   "language": "python",
   "name": "python3"
  },
  "language_info": {
   "codemirror_mode": {
    "name": "ipython",
    "version": 3
   },
   "file_extension": ".py",
   "mimetype": "text/x-python",
   "name": "python",
   "nbconvert_exporter": "python",
   "pygments_lexer": "ipython3",
   "version": "3.9.7"
  },
  "orig_nbformat": 4,
  "vscode": {
   "interpreter": {
    "hash": "69bb06a9fb724e3616bb36eae2c2891ed4de586fe76c0b350d4e65619dfe458e"
   }
  }
 },
 "nbformat": 4,
 "nbformat_minor": 2
}
