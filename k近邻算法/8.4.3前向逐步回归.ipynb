{
 "cells": [
  {
   "cell_type": "code",
   "execution_count": null,
   "metadata": {},
   "outputs": [],
   "source": [
    "def stageWise(xArr, yArr,eps=0.01,numIter=100):\n",
    "    xMat=np.mat(xArr)\n",
    "    yMat=np.mat(yArr).T\n",
    "    yMat=np.regularize(yMat)\n",
    "    xMat=np.regularize(xMat)\n",
    "    \n",
    "    m,n=xMat.shape\n",
    "    returnMat=np.zeros((numIter,n))\n",
    "    ws=np.zeros((n,1))\n",
    "    wsTest=ws.copy()\n",
    "    wsMax=ws.copy()\n",
    "    \n",
    "    for i in range(numIter):\n",
    "        print('当前权重： ',ws.T)\n",
    "    \n",
    "        lowestError=np.inf\n",
    "        for j in range(n):\n",
    "            for sign in [-1,1]:\n",
    "                wsTest=ws.copy()\n",
    "                wsTest[j]+=eps*sign\n",
    "                yTest=xMat*wsTest\n",
    "                rssE=rssError(yMat.A,yTest.A)\n",
    "                if rssE<lowestError:\n",
    "                    lowestError=rssE\n",
    "                    wsMax=wsTest\n",
    "        ws=wsMax.copy()\n",
    "        returnMat[i,:]=ws\n",
    "        return returnMat"
   ]
  }
 ],
 "metadata": {
  "language_info": {
   "name": "python"
  },
  "orig_nbformat": 4
 },
 "nbformat": 4,
 "nbformat_minor": 2
}
