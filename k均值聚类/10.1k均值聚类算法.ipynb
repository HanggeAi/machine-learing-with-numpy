{
 "cells": [
  {
   "cell_type": "markdown",
   "metadata": {},
   "source": [
    "## 伪代码\n",
    "---\n",
    "```python\n",
    "随机创建k个点作为起始质心\n",
    "当任意一个点的所述簇发生改变时：  \n",
    "    对每个数据点：  \n",
    "        对每个质心：  \n",
    "            计算质心与数据点之间的距离  \n",
    "        将数据点分配到距离其最近的簇  \n",
    "    对每个簇，计算簇中所有点的均值并将均值作为簇的新质心 \n",
    "``` "
   ]
  },
  {
   "cell_type": "markdown",
   "metadata": {},
   "source": [
    "#### 程序清单10-1 K-均值聚类函数"
   ]
  },
  {
   "cell_type": "code",
   "execution_count": 11,
   "metadata": {},
   "outputs": [
    {
     "data": {
      "text/plain": [
       "array([ 3.542485,  1.977398, -1.      ])"
      ]
     },
     "execution_count": 11,
     "metadata": {},
     "output_type": "execute_result"
    }
   ],
   "source": [
    "import numpy as np\n",
    "\n",
    "\n",
    "def loadDataSet(filename):\n",
    "    \"\"\"数据加载函数\"\"\"\n",
    "    dataMat=[]\n",
    "    fr=open(filename)\n",
    "    for line in fr.readlines():\n",
    "        curLine=line.strip().split('\\t')\n",
    "        fline=list(map(float, curLine))\n",
    "        dataMat.append(fline)\n",
    "    return dataMat\n",
    "\n",
    "\n",
    "def distEclud(vecA,vecB):\n",
    "    \"\"\"计算两个向量之间的欧几里得距离\"\"\"\n",
    "    return np.sqrt(np.sum((vecA-vecB)**2))\n",
    "\n",
    "\n",
    "def randCent(dataSet,k):\n",
    "    \"\"\"初始化簇质心,k是随机生成的质心的个数\"\"\"\n",
    "    n=dataSet.shape[1]\n",
    "    cent=np.mat(np.zeros((k,n)))    # 初始化k个质心\n",
    "    for j in range(n):\n",
    "        minJ=dataSet[:,j].min()\n",
    "        maxJ=dataSet[:,j].max()\n",
    "        rangeJ=float(maxJ-minJ)    # 第j个特征的范围\n",
    "        cent[:,j]=minJ+rangeJ*np.random.rand(k,1)\n",
    "    return cent\n",
    "\n",
    "\n",
    "dataPath='D:\\\\机器学习实战代码\\\\machinelearninginaction\\\\Ch06\\\\testSet.txt'\n",
    "datMat=np.mat(loadDataSet(dataPath))\n",
    "datMat[0,:].A[0]"
   ]
  },
  {
   "cell_type": "markdown",
   "metadata": {},
   "source": [
    "#### 程序清单10-2 K-均值聚类算法"
   ]
  },
  {
   "cell_type": "code",
   "execution_count": 15,
   "metadata": {},
   "outputs": [],
   "source": [
    "def kMeans(dataSet, k,distMeas=distEclud,createCent=randCent):\n",
    "    m=dataSet.shape[0]\n",
    "    clusterAssment=np.mat(np.zeros((m,2)))    # 第一列：每个样本所属的类标签；第二列：存储误差\n",
    "    center=createCent(dataSet,k)    # 随机初始化各个簇的质心\n",
    "    clusterChanged=True\n",
    "    \n",
    "    while clusterChanged:\n",
    "        clusterChanged=False\n",
    "        for i in range(m):    # 遍历每个样本，寻找其属于哪个中心（哪个簇）\n",
    "            minDist=np.inf\n",
    "            minIndex=-1\n",
    "            # 对每个质心，寻找距离该样本最短的质心\n",
    "            for j in range(k):   \n",
    "                # 这里需要注意，datMat[0,:]\n",
    "                distJI = distEclud(center[j, :].A[0], dataSet[i, :].A[0])    # 注意，datMat[0,:]是一个二维的矩阵，需转换成向量\n",
    "                if distJI<minDist:\n",
    "                    minDist=distJI\n",
    "                    minIndex=j    # 更新该样本属于哪个中心\n",
    "            # 现在对于该样本已经找到了其属于哪个簇中心\n",
    "            if clusterAssment[i,0]!=minIndex:    # 样本所属的簇发生改变：\n",
    "                clusterChanged=True\n",
    "            clusterAssment[i,:]=minIndex,minDist**2    # 更新簇结果分配矩阵\n",
    "        # print(center)\n",
    "        \n",
    "        for c in range(k):\n",
    "            ptsInClust=dataSet[np.nonzero(clusterAssment[:,0].A==c)[0]]    # 获取属于簇c的所有样本点\n",
    "            center[c,:]=np.mean(ptsInClust,axis=0)    # 更新各个簇的质心\n",
    "            \n",
    "    return center,clusterAssment\n",
    "\n",
    "\n",
    "centers,clusterAssment=kMeans(datMat[:,:2],4)"
   ]
  },
  {
   "cell_type": "markdown",
   "metadata": {},
   "source": [
    "#### 可视化一下"
   ]
  },
  {
   "cell_type": "code",
   "execution_count": 30,
   "metadata": {},
   "outputs": [
    {
     "data": {
      "image/png": "[encoded data removed]",
      "text/plain": [
       "<Figure size 800x600 with 1 Axes>"
      ]
     },
     "metadata": {},
     "output_type": "display_data"
    }
   ],
   "source": [
    "import matplotlib.pyplot as plt\n",
    "\n",
    "\n",
    "plt.figure(figsize=(8,6))\n",
    "colorLabels=['r*','b^','gv','gs']    # 颜色与形状\n",
    "\n",
    "# 可视化每一个簇的点\n",
    "for ii,point in enumerate(datMat[:,:2].A):\n",
    "    plt.plot(point[0],point[1],colorLabels[int(clusterAssment.A[ii][0])])\n",
    "    \n",
    "# 可视化聚类中心\n",
    "for cpoint in centers.A:\n",
    "    plt.plot(cpoint[0],cpoint[1],'ko',markersize=16.0,)"
   ]
  },
  {
   "cell_type": "markdown",
   "metadata": {},
   "source": [
    "### 自己再写一遍kMeans"
   ]
  },
  {
   "cell_type": "code",
   "execution_count": 44,
   "metadata": {},
   "outputs": [
    {
     "data": {
      "text/plain": [
       "(matrix([[ 1.62325217, -0.68641439, -1.        ],\n",
       "         [ 7.43138036, -0.8828804 ,  1.        ],\n",
       "         [ 8.59657524,  1.21284019,  1.        ],\n",
       "         [ 3.01905272,  1.51216744, -1.        ]]),\n",
       " matrix([[3.        , 0.70030052],\n",
       "         [3.        , 1.04424857],\n",
       "         [1.        , 0.70742399],\n",
       "         [0.        , 0.84075475],\n",
       "         [2.        , 0.47347751],\n",
       "         [1.        , 0.33896531],\n",
       "         [2.        , 0.8339864 ],\n",
       "         [0.        , 1.18315964],\n",
       "         [3.        , 0.6525768 ],\n",
       "         [0.        , 1.29874428],\n",
       "         [3.        , 1.22359492],\n",
       "         [0.        , 0.50935026],\n",
       "         [0.        , 2.23578931],\n",
       "         [1.        , 1.47606534],\n",
       "         [0.        , 0.53114453],\n",
       "         [2.        , 0.75979723],\n",
       "         [1.        , 1.23110992],\n",
       "         [3.        , 2.58219118],\n",
       "         [2.        , 0.51955135],\n",
       "         [0.        , 0.99071765],\n",
       "         [0.        , 0.47545799],\n",
       "         [0.        , 0.86991414],\n",
       "         [2.        , 1.03352912],\n",
       "         [0.        , 1.60538989],\n",
       "         [3.        , 0.91196425],\n",
       "         [1.        , 0.76128283],\n",
       "         [1.        , 1.1431934 ],\n",
       "         [0.        , 0.69476954],\n",
       "         [0.        , 1.86097191],\n",
       "         [3.        , 1.65346318],\n",
       "         [0.        , 1.53544455],\n",
       "         [2.        , 0.66745222],\n",
       "         [2.        , 0.48997918],\n",
       "         [1.        , 1.02156836],\n",
       "         [1.        , 0.69030807],\n",
       "         [3.        , 0.95464639],\n",
       "         [1.        , 1.63291432],\n",
       "         [0.        , 0.30312999],\n",
       "         [0.        , 0.54084739],\n",
       "         [2.        , 1.84322142],\n",
       "         [0.        , 0.40932481],\n",
       "         [3.        , 0.94959051],\n",
       "         [0.        , 2.58866102],\n",
       "         [3.        , 2.50679076],\n",
       "         [2.        , 1.20178284],\n",
       "         [1.        , 0.40700354],\n",
       "         [1.        , 0.79247581],\n",
       "         [2.        , 0.62627472],\n",
       "         [1.        , 0.73753538],\n",
       "         [0.        , 0.10962972],\n",
       "         [2.        , 1.06237864],\n",
       "         [1.        , 1.16698972],\n",
       "         [0.        , 1.59062836],\n",
       "         [0.        , 0.43177564],\n",
       "         [1.        , 2.60303298],\n",
       "         [1.        , 1.87597342],\n",
       "         [3.        , 0.51592622],\n",
       "         [1.        , 3.20077558],\n",
       "         [0.        , 0.70754922],\n",
       "         [0.        , 0.94828892],\n",
       "         [3.        , 0.66388617],\n",
       "         [0.        , 0.50421827],\n",
       "         [1.        , 0.70975794],\n",
       "         [0.        , 1.23206448],\n",
       "         [1.        , 0.72648557],\n",
       "         [3.        , 0.98027814],\n",
       "         [0.        , 0.4681674 ],\n",
       "         [2.        , 0.63091325],\n",
       "         [2.        , 0.9106829 ],\n",
       "         [1.        , 1.58732969],\n",
       "         [0.        , 5.41008186],\n",
       "         [2.        , 1.03688475],\n",
       "         [2.        , 1.23943325],\n",
       "         [0.        , 0.18346342],\n",
       "         [0.        , 0.98902714],\n",
       "         [1.        , 1.79900973],\n",
       "         [0.        , 1.203927  ],\n",
       "         [2.        , 0.42174549],\n",
       "         [1.        , 0.90195945],\n",
       "         [1.        , 1.13097445],\n",
       "         [2.        , 0.96364885],\n",
       "         [1.        , 1.05910806],\n",
       "         [2.        , 1.57678236],\n",
       "         [2.        , 0.71201945],\n",
       "         [3.        , 1.12479233],\n",
       "         [0.        , 0.82070877],\n",
       "         [0.        , 0.25555916],\n",
       "         [0.        , 0.72861354],\n",
       "         [1.        , 0.82247228],\n",
       "         [0.        , 0.92668232],\n",
       "         [2.        , 1.26691241],\n",
       "         [1.        , 0.66147349],\n",
       "         [2.        , 0.29549817],\n",
       "         [0.        , 0.4863986 ],\n",
       "         [3.        , 0.75897298],\n",
       "         [3.        , 0.73404599],\n",
       "         [3.        , 0.28391849],\n",
       "         [0.        , 1.37676979],\n",
       "         [0.        , 1.28011966],\n",
       "         [3.        , 0.634983  ]]))"
      ]
     },
     "execution_count": 44,
     "metadata": {},
     "output_type": "execute_result"
    }
   ],
   "source": [
    "def kMeans1(dataSet:np.matrix, k=3):\n",
    "    m=dataSet.shape[0]\n",
    "    clusterAss=np.mat(np.zeros((m,2)))\n",
    "    clusterChanged=True\n",
    "    clusterCenter=randCent(dataSet,k)    # 随机初始化各个簇的质心\n",
    "    \n",
    "    while clusterChanged:\n",
    "        clusterChanged=False\n",
    "        for i in range(m):    # 对每个样本\n",
    "            lowetDist=np.inf\n",
    "            belongClust=-1\n",
    "            for j in range(len(clusterCenter)):    # 对每个聚类中心\n",
    "                dist=distEclud(dataSet[i,:].A[0],clusterCenter[j,:].A[0])\n",
    "                if dist < lowetDist:\n",
    "                    lowetDist=dist\n",
    "                    belongClust=j\n",
    "            if clusterAss[i,:].A[0][0]!=belongClust:\n",
    "                clusterChanged=True\n",
    "            clusterAss[i,:]=belongClust,lowetDist\n",
    "            \n",
    "        for c in range(k):\n",
    "            ptsInClust = dataSet[np.nonzero(clusterAss[:, 0] == c)[0], :]\n",
    "            clusterCenter[c,:]=np.mean(ptsInClust,axis=0)    # 更新聚类中心\n",
    "            \n",
    "    return clusterCenter,clusterAss\n",
    "\n",
    "\n",
    "kMeans1(datMat,k=4)"
   ]
  },
  {
   "cell_type": "code",
   "execution_count": 57,
   "metadata": {},
   "outputs": [
    {
     "data": {
      "text/plain": [
       "3"
      ]
     },
     "execution_count": 57,
     "metadata": {},
     "output_type": "execute_result"
    }
   ],
   "source": [
    "def recMC(coinValueList, change):\n",
    "    \"\"\"\n",
    "    :param coinValueList: 面值列表\n",
    "    :param change: 需要找零的钱数\n",
    "    :return: 最少的硬币数量\n",
    "    \"\"\"\n",
    "    minCoins = change\n",
    "    if change in coinValueList:  # 基本结束条件\n",
    "        return 1\n",
    "    else:\n",
    "        for i in [c for c in coinValueList if c < change]:\n",
    "            numCoins = 1 + recMC(coinValueList, change - i)\n",
    "            # 这里，需要找零的前减去一个面值的硬币对应的钱，规模减小，同时，\n",
    "            # 需要将硬币数量+1，因为已经用了一个硬币(change - i)\n",
    "            if numCoins < minCoins:  # 如果问题得到优化，则更新最优值\n",
    "                minCoins = numCoins    # 感觉这里只更新一次minCoins\n",
    "    return minCoins\n",
    "\n",
    "\n",
    "recMC([1,5,10,20,50,100],16)"
   ]
  },
  {
   "cell_type": "code",
   "execution_count": 3,
   "metadata": {},
   "outputs": [
    {
     "data": {
      "text/plain": [
       "3"
      ]
     },
     "execution_count": 3,
     "metadata": {},
     "output_type": "execute_result"
    }
   ],
   "source": [
    "def dpMakeChange(coinValueList,change,minCoins):\n",
    "    '''\n",
    "    coinValueList:货币体系表\n",
    "    change:需要找零的钱数\n",
    "    minCoins:储存最少硬币数量的列表,程序执行后应对应上语雀中的表格,实际上是哈希\n",
    "    '''\n",
    "    # 从1分开始到change逐个计算最少硬币数量\n",
    "    for cents in range(1,change+1):\n",
    "        coinCount=cents    # 初始化找零硬币的最大值\n",
    "        # 减去每个硬币，向后查找最少硬币数，同时记录总的最小数\n",
    "        for j in [c for c in coinValueList if c<=cents]:    # 在币值体系中迭代\n",
    "            if minCoins[coinCount-j]+1<coinCount:    # 如果兑换一个硬币后，整体硬币数量小于\n",
    "                coinCount=minCoins[coinCount-j]+1    # 这里minCoins[coinCount-j]之前已经算好了\n",
    "        # 得到当前最少硬币数，记录到表中\n",
    "        minCoins[cents]=coinCount\n",
    "\n",
    "    return minCoins\n",
    "\n",
    "\n",
    "print(dpMakeChange([1,5,10,21,25],63,[0]*64))"
   ]
  },
  {
   "cell_type": "code",
   "execution_count": null,
   "metadata": {},
   "outputs": [],
   "source": []
  }
 ],
 "metadata": {
  "kernelspec": {
   "display_name": "Python 3.9.7 ('base')",
   "language": "python",
   "name": "python3"
  },
  "language_info": {
   "codemirror_mode": {
    "name": "ipython",
    "version": 3
   },
   "file_extension": ".py",
   "mimetype": "text/x-python",
   "name": "python",
   "nbconvert_exporter": "python",
   "pygments_lexer": "ipython3",
   "version": "3.9.7"
  },
  "orig_nbformat": 4,
  "vscode": {
   "interpreter": {
    "hash": "69bb06a9fb724e3616bb36eae2c2891ed4de586fe76c0b350d4e65619dfe458e"
   }
  }
 },
 "nbformat": 4,
 "nbformat_minor": 2
}
