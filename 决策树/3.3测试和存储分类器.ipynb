{
 "cells": [
  {
   "cell_type": "markdown",
   "metadata": {},
   "source": [
    "### 3.3.1 测试算法：使用决策树进行分类\n",
    "#### 程序清单3-8 使用决策树的分类函数（基于递归）"
   ]
  },
  {
   "cell_type": "code",
   "execution_count": 5,
   "metadata": {},
   "outputs": [
    {
     "name": "stdout",
     "output_type": "stream",
     "text": [
      "no\n",
      "yes\n"
     ]
    }
   ],
   "source": [
    "def classify(inputTree,featLabels,testVec):\n",
    "    \"\"\"\"\n",
    "    inputTree:学习好的决策树\n",
    "    featLabels:特征名称\n",
    "    testVec:测试样本\n",
    "    \"\"\"\n",
    "    firstStr=list(inputTree.keys())[0]\n",
    "    secondDict=inputTree[firstStr]    # 第二大的字典\n",
    "    featIdx=featLabels.index(firstStr)    # 将特征字符串转换为特征所在的索引\n",
    "    # 注意，此三者都会随着inputTree的规模缩减而发生变化！\n",
    "    \n",
    "    for key in secondDict.keys():   # 0,1这里是特征的unique取值\n",
    "        if testVec[featIdx]==key:\n",
    "            if type(secondDict[key]).__name__=='dict':    # 如果secondDict中还有嵌套字典，则递归调用\n",
    "                classLabel=classify(secondDict[key],featLabels,testVec)\n",
    "            else:\n",
    "                classLabel=secondDict[key]\n",
    "    \n",
    "    return classLabel\n",
    "\n",
    "\n",
    "myTree = {'no surfacing': {0: 'no', 1: {'flippers': {0: 'no', 1: 'yes'}}}}\n",
    "feature_names=['no surfacing','flippers']\n",
    "\n",
    "print(classify(myTree,feature_names,testVec=[1,0]))\n",
    "print(classify(myTree, feature_names, testVec=[1,1]))\n"
   ]
  },
  {
   "cell_type": "code",
   "execution_count": null,
   "metadata": {},
   "outputs": [],
   "source": []
  }
 ],
 "metadata": {
  "kernelspec": {
   "display_name": "Python 3.9.7 ('base')",
   "language": "python",
   "name": "python3"
  },
  "language_info": {
   "codemirror_mode": {
    "name": "ipython",
    "version": 3
   },
   "file_extension": ".py",
   "mimetype": "text/x-python",
   "name": "python",
   "nbconvert_exporter": "python",
   "pygments_lexer": "ipython3",
   "version": "3.9.7"
  },
  "orig_nbformat": 4,
  "vscode": {
   "interpreter": {
    "hash": "69bb06a9fb724e3616bb36eae2c2891ed4de586fe76c0b350d4e65619dfe458e"
   }
  }
 },
 "nbformat": 4,
 "nbformat_minor": 2
}
