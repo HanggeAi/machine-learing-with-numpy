{
 "cells": [
  {
   "cell_type": "markdown",
   "metadata": {},
   "source": [
    "### 11.3.1生成候选项集\n",
    "---\n",
    "#### 一些辅助函数\n",
    "数据集扫描函数的伪代码如下：\n",
    "```python\n",
    "对数据集中的每条交易记录tran:\n",
    "    对每个候选项集can:\n",
    "        if can是tran的子集：\n",
    "            增加can的计数值\n",
    "对每个候选项集：\n",
    "    if 其支持度>=最小支持度：\n",
    "        则保留该项集\n",
    "返回所有频繁项集列表\n",
    "```"
   ]
  },
  {
   "cell_type": "markdown",
   "metadata": {},
   "source": [
    "#### 程序清单11-1 Apriori算法中的辅助函数"
   ]
  },
  {
   "cell_type": "code",
   "execution_count": 6,
   "metadata": {},
   "outputs": [],
   "source": [
    "def loadDataSet():\n",
    "    return [[1,3,4],[2,3,5],[1,2,3,5],[2,5]]\n",
    "\n",
    "\n",
    "def createC1(dataSet):\n",
    "    \"\"\"生成候选项集\"\"\"\n",
    "    c1=[]\n",
    "    for transaction in dataSet:\n",
    "        for item in transaction:\n",
    "            if not [item] in c1:\n",
    "                c1.append([item])\n",
    "    c1.sort()    # 这个.sort()有啥意思，元素是列表，怎么排序\n",
    "    return list(map(frozenset,c1))    # frozenset不可更改的集合\n",
    "\n",
    "\n",
    "def scanD(D,ck,minSupport):\n",
    "    \"\"\"基于最小支持度,筛选出频繁项集\n",
    "    D:交易记录\n",
    "    ck:候选项集\n",
    "    \"\"\"\n",
    "    # 计算每个候选项集的个数\n",
    "    ssCnt={}    # 键是项集，值是次数\n",
    "    for tid in D:    # 对每个交易记录（set化了的）\n",
    "        for can in ck:    # 对每个候选项集\n",
    "            if can.issubset(tid):\n",
    "                if can not in ssCnt:\n",
    "                    ssCnt[can]=1\n",
    "                else:\n",
    "                    ssCnt[can]+=1\n",
    "    numItems=float(len(D))\n",
    "    retList=[]\n",
    "    supportData={}\n",
    "    # 计算所有项集的支持度\n",
    "    for key in ssCnt:\n",
    "        support = ssCnt[key]/numItems\n",
    "        if support>=minSupport:\n",
    "            retList.insert(0,key)\n",
    "        supportData[key]=support\n",
    "    return retList,supportData"
   ]
  },
  {
   "cell_type": "code",
   "execution_count": 3,
   "metadata": {},
   "outputs": [
    {
     "data": {
      "text/plain": [
       "[frozenset({1}),\n",
       " frozenset({2}),\n",
       " frozenset({3}),\n",
       " frozenset({4}),\n",
       " frozenset({5})]"
      ]
     },
     "execution_count": 3,
     "metadata": {},
     "output_type": "execute_result"
    }
   ],
   "source": [
    "# 函数测试\n",
    "dataSet=loadDataSet()\n",
    "c1=createC1(dataSet)\n",
    "c1"
   ]
  },
  {
   "cell_type": "code",
   "execution_count": 4,
   "metadata": {},
   "outputs": [
    {
     "data": {
      "text/plain": [
       "[{1, 3, 4}, {2, 3, 5}, {1, 2, 3, 5}, {2, 5}]"
      ]
     },
     "execution_count": 4,
     "metadata": {},
     "output_type": "execute_result"
    }
   ],
   "source": [
    "# 集合形式的data:\n",
    "D=list(map(set,dataSet,))\n",
    "D"
   ]
  },
  {
   "cell_type": "code",
   "execution_count": 7,
   "metadata": {},
   "outputs": [
    {
     "data": {
      "text/plain": [
       "[frozenset({5}), frozenset({2}), frozenset({3}), frozenset({1})]"
      ]
     },
     "execution_count": 7,
     "metadata": {},
     "output_type": "execute_result"
    }
   ],
   "source": [
    "L1,supportData0=scanD(D,c1,0.5)    # 利用最小支持度过滤频繁项集\n",
    "L1"
   ]
  },
  {
   "cell_type": "markdown",
   "metadata": {},
   "source": [
    "#### 函数测试没问题\n",
    "---\n",
    "### 11.3.2 组织完整的Apriori算法\n",
    "#### 伪代码\n",
    "```python\n",
    "当集合中项的个数大于0时：\n",
    "    构建一个k个项组成的候选项集的列表\n",
    "    检查数据以确认每个项集都是频繁的\n",
    "    保留频繁项集并构建 k+1 项组成的候选项集的列表\n",
    "```\n",
    "---\n",
    "#### 程序清单11-2 Apriori算法"
   ]
  },
  {
   "cell_type": "code",
   "execution_count": 9,
   "metadata": {},
   "outputs": [
    {
     "data": {
      "text/plain": [
       "([[frozenset({5}), frozenset({2}), frozenset({3}), frozenset({1})],\n",
       "  [frozenset({2, 3}), frozenset({3, 5}), frozenset({2, 5}), frozenset({1, 3})],\n",
       "  [frozenset({2, 3, 5})],\n",
       "  []],\n",
       " {frozenset({1}): 0.5,\n",
       "  frozenset({3}): 0.75,\n",
       "  frozenset({4}): 0.25,\n",
       "  frozenset({2}): 0.75,\n",
       "  frozenset({5}): 0.75,\n",
       "  frozenset({1, 3}): 0.5,\n",
       "  frozenset({2, 5}): 0.75,\n",
       "  frozenset({3, 5}): 0.5,\n",
       "  frozenset({2, 3}): 0.5,\n",
       "  frozenset({1, 5}): 0.25,\n",
       "  frozenset({1, 2}): 0.25,\n",
       "  frozenset({2, 3, 5}): 0.5})"
      ]
     },
     "execution_count": 9,
     "metadata": {},
     "output_type": "execute_result"
    }
   ],
   "source": [
    "def aprioriGen(Lk,k):\n",
    "    \"\"\"辅助函数,用于生成Ck,生成每个项集有k个元素的项集列表\n",
    "    Lk:元素为集合的列表\n",
    "    k:要生成的每个集合的长度。\n",
    "    \"\"\"\n",
    "    retList=[]\n",
    "    lenLk=len(Lk)\n",
    "    for i in range(lenLk):\n",
    "        for j in range(i+1,lenLk):\n",
    "            L1=list(Lk[i])[:k-2]\n",
    "            L2=list(Lk[j])[:k-2]\n",
    "            L1.sort()    # 对列表排序，保证元素从小到大排序\n",
    "            L2.sort()\n",
    "            if L1==L2:\n",
    "                retList.append(Lk[i]|Lk[j])\n",
    "    return retList\n",
    "\n",
    "\n",
    "def apriori(dataSet,minSupport=0.5):\n",
    "    \"\"\"apriori算法主函数\"\"\"\n",
    "    c1=createC1(dataSet)    # 候选项集\n",
    "    D=list(map(set,dataSet))    # 将每条交易记录集合化\n",
    "    L1,supportData=scanD(D,c1,minSupport)    # 基于支持度得到频繁项集，（及其对应的支持度）\n",
    "    L=[L1]\n",
    "    k=2    # 初始化k\n",
    "    \n",
    "    while len(L[k-2])>0:    # L中会不断的加入更大的项集，直到下一个更大的项集为空，while退出\n",
    "        Ck=aprioriGen(L[k-2],k)\n",
    "        Lk,supK=scanD(D,Ck,minSupport)\n",
    "        supportData.update(supK)\n",
    "        L.append(Lk)\n",
    "        k+=1\n",
    "    return L,supportData\n",
    "\n",
    "\n",
    "apriori(dataSet)    # 注意到L[3]为空列表，其长度为0，所以其导致while退出"
   ]
  },
  {
   "cell_type": "markdown",
   "metadata": {},
   "source": [
    "## 11.4 从频繁项集中挖掘出关联规则\n",
    "---\n",
    "频繁项集对应支持度，而关联规则对应可信度\n",
    "如规则P->H的可信度定义为：\n",
    "$$\\frac{support(P|H)}{support(P)}$$\n",
    "##### 其中，P|H是指所有出现在集合P或集合H中的元素\n",
    "---\n",
    "#### 程序清单11-3 关联规则生成函数"
   ]
  },
  {
   "cell_type": "code",
   "execution_count": null,
   "metadata": {},
   "outputs": [],
   "source": [
    "# 两个辅助函数\n",
    "from typing import List\n",
    "\n",
    "\n",
    "def calcConf(freqSet,H,supportData,br1:List,minConf=0.7):\n",
    "    \"\"\"计算可信度\n",
    "    返回所有满足最小置信度要求的规则列表\n",
    "    \"\"\"\n",
    "    prunedH=[]\n",
    "    for conseq in H:\n",
    "        conf=supportData[freqSet]/supportData[freqSet-conseq]\n",
    "        if conf>=minConf:\n",
    "            print(freqSet-conseq,'--->',conseq,'conf: ',conf)\n",
    "            br1.append((freqSet-conseq,conseq,conf))    # 对br1做原地增加操作。\n",
    "            prunedH.append(conseq)\n",
    "    return prunedH\n",
    "\n",
    "\n",
    "def rulesFromConseq(freqSet,H,supportData,br1:List,minConf=0.7):\n",
    "    \"\"\"尝试进一步合并\"\"\"\n",
    "    "
   ]
  }
 ],
 "metadata": {
  "kernelspec": {
   "display_name": "Python 3.9.7 ('base')",
   "language": "python",
   "name": "python3"
  },
  "language_info": {
   "codemirror_mode": {
    "name": "ipython",
    "version": 3
   },
   "file_extension": ".py",
   "mimetype": "text/x-python",
   "name": "python",
   "nbconvert_exporter": "python",
   "pygments_lexer": "ipython3",
   "version": "3.9.7"
  },
  "orig_nbformat": 4,
  "vscode": {
   "interpreter": {
    "hash": "69bb06a9fb724e3616bb36eae2c2891ed4de586fe76c0b350d4e65619dfe458e"
   }
  }
 },
 "nbformat": 4,
 "nbformat_minor": 2
}
