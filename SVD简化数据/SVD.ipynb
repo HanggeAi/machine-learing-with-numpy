{
 "cells": [
  {
   "cell_type": "markdown",
   "metadata": {},
   "source": [
    "## 14.2 矩阵分解\n",
    "---\n",
    "任何一个m*n阶矩阵$Data_{m\\times n}$都可以分解成：\n",
    "$$Data_{m\\times n}=U_{m\\times m}\\Sigma _{m\\times n}V_{n\\times n}^T$$\n",
    "其中，$U,V^T$是单位正交矩阵，$\\Sigma$ 只有对角元素，其余元素均为零。且其对角元素从大到小排列，这些对角元素称为奇异值。"
   ]
  },
  {
   "cell_type": "markdown",
   "metadata": {},
   "source": [
    "## 14.3 利用Python实现SVD\n",
    "基于np.linalg.svd函数"
   ]
  },
  {
   "cell_type": "code",
   "execution_count": 1,
   "metadata": {},
   "outputs": [
    {
     "name": "stdout",
     "output_type": "stream",
     "text": [
      "U:  [[-0.14142136 -0.98994949]\n",
      " [-0.98994949  0.14142136]] Sigma:  [10.  0.] VT:  [[-0.70710678 -0.70710678]\n",
      " [-0.70710678  0.70710678]]\n"
     ]
    }
   ],
   "source": [
    "import numpy as np\n",
    "\n",
    "\n",
    "U,Sigma,VT=np.linalg.svd(np.array([[1,1],[7,7]]))\n",
    "print('U: \\n', U, 'Sigma: \\n', Sigma, 'VT: \\n', VT)    # 但需要注意到，这里的\\Sigma是以一个列向量的形式返回的。"
   ]
  },
  {
   "cell_type": "markdown",
   "metadata": {},
   "source": [
    "## 14.4 基于协同过滤的推荐引擎\n",
    "---\n",
    "一个例子，可以通过计算某一个新电影X和用户看过的喜欢的电影A之间的**相似度**，如果该值较高的话，则可认为用户也喜欢电影X,进而将该电影推荐给用户。"
   ]
  },
  {
   "cell_type": "markdown",
   "metadata": {},
   "source": [
    "### 14.4.1 相似度计算\n",
    "常见的相似度计算方式有三种：\n",
    "- 计算两个向量之间的欧氏距离\n",
    "- 皮尔逊相关系数\n",
    "- 余弦相似度\n",
    "---\n",
    "#### 程序清单 14-1 相似度的计算 "
   ]
  },
  {
   "cell_type": "code",
   "execution_count": 2,
   "metadata": {},
   "outputs": [
    {
     "name": "stdout",
     "output_type": "stream",
     "text": [
      "欧几里得相似度:  0.13367660240019172\n",
      "余弦相似度:  [[0.60639983]]\n",
      "皮尔逊相似度:  0.23768619407595826\n"
     ]
    }
   ],
   "source": [
    "import numpy.linalg as la \n",
    "\n",
    "\n",
    "def eulidSim(inA,inB):\n",
    "    return 1/(1+la.norm(inA-inB))    # 范数\n",
    "\n",
    "\n",
    "def pearsSim(inA,inB):\n",
    "    if len(inA)<3:return 1.0\n",
    "    return 0.5+0.5*np.corrcoef(inA,inB,rowvar=0)[0][1]\n",
    "\n",
    "\n",
    "def cosSim(inA,inB):\n",
    "    num=inA.T*inB\n",
    "    denom=la.norm(inA)+la.norm(inB)\n",
    "    return 0.5+0.5*(num/denom)\n",
    "\n",
    "\n",
    "# 数据加载的函数\n",
    "def loadData():\n",
    "    return [\n",
    "        [1,1,1,0,0],\n",
    "        [2,2,2,0,0],\n",
    "        [1,1,1,0,0],\n",
    "        [5,5,5,0,0],\n",
    "        [1,1,0,2,2],\n",
    "        [0,0,0,3,3],\n",
    "        [0,0,0,1,1]\n",
    "    ]\n",
    "    \n",
    "    \n",
    "myMat=np.mat(loadData())\n",
    "print('欧几里得相似度: ',eulidSim(myMat[:,0],myMat[:,4]))\n",
    "print('余弦相似度: ',cosSim(myMat[:,0],myMat[:,4]))\n",
    "print('皮尔逊相似度: ',pearsSim(myMat[:,0],myMat[:,4]))"
   ]
  },
  {
   "cell_type": "markdown",
   "metadata": {},
   "source": [
    "## 14.5 示例：餐馆菜肴推荐引擎\n",
    "### 14.5.1 推荐没尝过的菜肴\n",
    "#### 程序清单14-2 基于物品相似度的推荐引擎"
   ]
  },
  {
   "cell_type": "code",
   "execution_count": 11,
   "metadata": {},
   "outputs": [
    {
     "data": {
      "text/plain": [
       "[(2, matrix([[3.08266119]])), (1, matrix([[2.44390502]]))]"
      ]
     },
     "execution_count": 11,
     "metadata": {},
     "output_type": "execute_result"
    }
   ],
   "source": [
    "def standEst(dataMat,user,simMeas,item):\n",
    "    \"\"\"\n",
    "    估计user对商品item的评分。\n",
    "    user:用户编号\n",
    "    item:未评分的物品编号\n",
    "    \"\"\"\n",
    "    n=dataMat.shape[1]\n",
    "    simTotal=0.0\n",
    "    ratSimTotal=0.0\n",
    "    for j in range(n):\n",
    "        userRating=dataMat[user,j]    # 当前用户对j商品的评分\n",
    "        if userRating==0:continue\n",
    "        overlap=np.nonzero(np.logical_and(dataMat[:,j].A>0,dataMat[:,item].A>0))[0]    # 找出同时评价j和item的用户\n",
    "        if len(overlap)==0:\n",
    "            similarity=0\n",
    "        else:\n",
    "            similarity=simMeas(dataMat[overlap,j],dataMat[overlap,item])\n",
    "            simTotal+=similarity\n",
    "            ratSimTotal+=similarity*userRating    # 加权相似度（权中为用户评分）\n",
    "    if simTotal==0:return 0\n",
    "    return ratSimTotal/simTotal    # 归一化，使得最后的评分值在0-5之间\n",
    "\n",
    "\n",
    "def recommend(dataMat,user,N=3,simMeas=cosSim,estMethod=standEst):\n",
    "    \"\"\"对user所有没评过分的商品都进行评分的估计\"\"\"\n",
    "    unratedItems=np.nonzero(dataMat[user,:].A==0)[1]    # 注意这里输出的是一个长度为2的元组（由二维数组导致），所以取第二个\n",
    "    if len(unratedItems)==0:\n",
    "        print('You have rated everything!!')\n",
    "    itemScores=[]\n",
    "    for item in unratedItems:    # 在所有未评分的商品中遍历\n",
    "        estimatedScore=estMethod(dataMat,user,simMeas,item)    # 估计评分\n",
    "        itemScores.append((item,estimatedScore))\n",
    "    return sorted(itemScores,key=lambda x:x[1],reverse=True)[:N]    # 按照estimatedScore进行从大到小排序\n",
    "\n",
    "\n",
    "# 对myMat做一些简单的变动（可能是为了效果更好？）\n",
    "myMat[0,1]=myMat[0,0]=myMat[1,0]=myMat[2,0]=4\n",
    "myMat[3,3]=2\n",
    "recommend(myMat,2)"
   ]
  },
  {
   "cell_type": "code",
   "execution_count": 7,
   "metadata": {},
   "outputs": [
    {
     "data": {
      "text/plain": [
       "matrix([[4, 4, 1, 0, 0],\n",
       "        [4, 2, 2, 0, 0],\n",
       "        [4, 1, 1, 0, 0],\n",
       "        [5, 5, 5, 2, 0],\n",
       "        [1, 1, 0, 2, 2],\n",
       "        [0, 0, 0, 3, 3],\n",
       "        [0, 0, 0, 1, 1]])"
      ]
     },
     "execution_count": 7,
     "metadata": {},
     "output_type": "execute_result"
    }
   ],
   "source": [
    "myMat"
   ]
  },
  {
   "cell_type": "code",
   "execution_count": 12,
   "metadata": {},
   "outputs": [
    {
     "data": {
      "text/plain": [
       "[(2, matrix([[3.08266119]])), (1, matrix([[2.44390502]]))]"
      ]
     },
     "execution_count": 12,
     "metadata": {},
     "output_type": "execute_result"
    }
   ],
   "source": [
    "myMat=[\n",
    "    [4,4,0,2,2],\n",
    "    [4,0,0,3,3],\n",
    "    [4,0,0,1,1],\n",
    "    [1,1,1,2,0],\n",
    "    [2,2,2,0,0],\n",
    "    [1,1,1,0,0],\n",
    "    [5,5,5,0,0],\n",
    "]\n",
    "myMat=np.mat(myMat)\n",
    "recommend(myMat,2)"
   ]
  },
  {
   "cell_type": "markdown",
   "metadata": {},
   "source": [
    "### 14.5.2 利用SVD提高推荐的效果\n",
    "---\n",
    "能量的概念：\n",
    "矩阵A的前n个奇异值的平方和，叫做这n个奇异值的能量，所有奇异值的平方和，称为总能量。"
   ]
  },
  {
   "cell_type": "code",
   "execution_count": 13,
   "metadata": {},
   "outputs": [
    {
     "data": {
      "text/plain": [
       "array([15.77075346, 11.40670395, 11.03044558,  4.84639758,  3.09292055,\n",
       "        2.58097379,  1.00413543,  0.72817072,  0.43800353,  0.22082113,\n",
       "        0.07367823])"
      ]
     },
     "execution_count": 13,
     "metadata": {},
     "output_type": "execute_result"
    }
   ],
   "source": [
    "def loadExData2():\n",
    "    return[[0, 0, 0, 0, 0, 4, 0, 0, 0, 0, 5],\n",
    "           [0, 0, 0, 3, 0, 4, 0, 0, 0, 0, 3],\n",
    "           [0, 0, 0, 0, 4, 0, 0, 1, 0, 4, 0],\n",
    "           [3, 3, 4, 0, 0, 0, 0, 2, 2, 0, 0],\n",
    "           [5, 4, 5, 0, 0, 0, 0, 5, 5, 0, 0],\n",
    "           [0, 0, 0, 0, 5, 0, 1, 0, 0, 5, 0],\n",
    "           [4, 3, 4, 0, 0, 0, 0, 5, 5, 0, 1],\n",
    "           [0, 0, 0, 4, 0, 4, 0, 0, 0, 0, 4],\n",
    "           [0, 0, 0, 2, 0, 2, 5, 0, 0, 1, 2],\n",
    "           [0, 0, 0, 0, 5, 0, 0, 0, 0, 4, 0],\n",
    "           [1, 0, 0, 0, 0, 0, 0, 1, 2, 0, 0]]\n",
    "    \n",
    "    \n",
    "U,Sigma,VT=np.linalg.svd(np.mat(loadExData2()))\n",
    "Sigma"
   ]
  },
  {
   "cell_type": "markdown",
   "metadata": {},
   "source": [
    "#### 我们想要看一下，用多少个奇异值，能够达到总能量的90%"
   ]
  },
  {
   "cell_type": "code",
   "execution_count": 14,
   "metadata": {},
   "outputs": [
    {
     "data": {
      "text/plain": [
       "1"
      ]
     },
     "execution_count": 14,
     "metadata": {},
     "output_type": "execute_result"
    }
   ],
   "source": [
    "Sig2=Sigma**2\n",
    "\n",
    "i=0\n",
    "while (Sig2[:i]**2).sum()<0.9*Sig2.sum():\n",
    "    i+=1\n",
    "i\n",
    "# i=1,这意味着只需使用前2个奇异值的能量即可达到总能量的90%."
   ]
  },
  {
   "cell_type": "code",
   "execution_count": null,
   "metadata": {},
   "outputs": [],
   "source": []
  }
 ],
 "metadata": {
  "kernelspec": {
   "display_name": "Python 3.9.7 ('base')",
   "language": "python",
   "name": "python3"
  },
  "language_info": {
   "codemirror_mode": {
    "name": "ipython",
    "version": 3
   },
   "file_extension": ".py",
   "mimetype": "text/x-python",
   "name": "python",
   "nbconvert_exporter": "python",
   "pygments_lexer": "ipython3",
   "version": "3.9.7"
  },
  "orig_nbformat": 4,
  "vscode": {
   "interpreter": {
    "hash": "69bb06a9fb724e3616bb36eae2c2891ed4de586fe76c0b350d4e65619dfe458e"
   }
  }
 },
 "nbformat": 4,
 "nbformat_minor": 2
}
