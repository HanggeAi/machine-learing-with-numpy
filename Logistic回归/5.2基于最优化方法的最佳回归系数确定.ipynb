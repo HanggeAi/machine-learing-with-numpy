{
 "cells": [
  {
   "cell_type": "markdown",
   "metadata": {},
   "source": [
    "### 5.2.2 训练算法：使用梯度上升找到最佳参数\n",
    "\n",
    "#### 程序清单 5-1 Logistic 回归梯度上升优化算法\n"
   ]
  },
  {
   "cell_type": "code",
   "execution_count": 21,
   "metadata": {},
   "outputs": [],
   "source": [
    "import numpy as np\n",
    "\n",
    "\n",
    "path='D:\\\\机器学习实战代码\\\\machinelearninginaction\\\\Ch05\\\\testSet.txt'\n",
    "def LoadDataSet(path):\n",
    "    \"\"\"加载数据\"\"\"\n",
    "    dataMat=[]    # 自变量\n",
    "    labelMat=[]   # 因变量\n",
    "    fr=open(path)\n",
    "    for line in fr.readlines():\n",
    "        lineArr=line.strip().split()\n",
    "        dataMat.append([1,float(lineArr[0]),float(lineArr[1])])\n",
    "        labelMat.append(int(lineArr[-1]))\n",
    "    return dataMat,labelMat\n",
    "\n",
    "\n",
    "def sigmoid(x):\n",
    "    return 1.0/(1+np.exp(-x))\n",
    "\n",
    "\n",
    "def gradAscent(dataMatIn,classLabels,alpha=0.001,max_iter=1000):\n",
    "    \"\"\"梯度提升法求解最优权重\"\"\"\n",
    "    dataMat=np.mat(dataMatIn)    # 转换为矩阵，注意，非数组\n",
    "    labelMat=np.mat(classLabels).T\n",
    "    print('dataMat.shape: ',dataMat.shape)\n",
    "    print('labelMat.shape: ',labelMat.shape)\n",
    "    m,n=np.shape(dataMatIn)    # 自变量维度\n",
    "    \n",
    "    max_iter=max_iter    # 最大迭代次数\n",
    "    weights=np.ones((n,1))    # 初试化权重\n",
    "\n",
    "    for iter in range(max_iter):\n",
    "        h=sigmoid(dataMat*weights)    # 矩阵乘法\n",
    "        error=(labelMat-h)\n",
    "        weights+=alpha*dataMat.T*error    # 转置，得到一个列向量\n",
    "    return weights"
   ]
  },
  {
   "cell_type": "code",
   "execution_count": 24,
   "metadata": {},
   "outputs": [
    {
     "name": "stdout",
     "output_type": "stream",
     "text": [
      "dataMat.shape:  (100, 3)\n",
      "labelMat.shape:  (100, 1)\n"
     ]
    },
    {
     "data": {
      "text/plain": [
       "array([[ 5.43822336],\n",
       "       [ 0.58605575],\n",
       "       [-0.78334895]])"
      ]
     },
     "execution_count": 24,
     "metadata": {},
     "output_type": "execute_result"
    }
   ],
   "source": [
    "X,y=LoadDataSet(path)\n",
    "weights1=gradAscent(X,y)\n",
    "weights1"
   ]
  },
  {
   "cell_type": "code",
   "execution_count": 23,
   "metadata": {},
   "outputs": [
    {
     "data": {
      "text/plain": [
       "[[1, -0.017612, 14.053064],\n",
       " [1, -1.395634, 4.662541],\n",
       " [1, -0.752157, 6.53862],\n",
       " [1, -1.322371, 7.152853],\n",
       " [1, 0.423363, 11.054677],\n",
       " [1, 0.406704, 7.067335],\n",
       " [1, 0.667394, 12.741452],\n",
       " [1, -2.46015, 6.866805],\n",
       " [1, 0.569411, 9.548755],\n",
       " [1, -0.026632, 10.427743]]"
      ]
     },
     "execution_count": 23,
     "metadata": {},
     "output_type": "execute_result"
    }
   ],
   "source": [
    "X[:10]"
   ]
  },
  {
   "cell_type": "markdown",
   "metadata": {},
   "source": [
    "### 5.2.3 分析数据：画出决策边界：\n",
    "\n",
    "#### 程序清单 5-2 画出数据集和 Logistic 回归拟合直线\n"
   ]
  },
  {
   "cell_type": "code",
   "execution_count": 27,
   "metadata": {},
   "outputs": [
    {
     "data": {
      "image/png": "[encoded data removed]",
      "text/plain": [
       "<Figure size 576x576 with 1 Axes>"
      ]
     },
     "metadata": {
      "needs_background": "light"
     },
     "output_type": "display_data"
    }
   ],
   "source": [
    "def plotBestFit(wei):\n",
    "    import matplotlib.pyplot as plt\n",
    "    weights=wei  # mat->arr\n",
    "    dataMat,labelMat=LoadDataSet(path)\n",
    "    dataArr=np.array(dataMat)\n",
    "    n=dataArr.shape[0]    # 样本个数\n",
    "    xcord1=[]\n",
    "    ycord1=[]    # 保存正样本\n",
    "    xcord2=[]\n",
    "    ycord2=[]    # 保存负样本\n",
    "    \n",
    "    for i in range(n): # 样本归类\n",
    "        if labelMat[i]==1:\n",
    "            xcord1.append(dataArr[i,1])\n",
    "            ycord1.append(dataArr[i,2])\n",
    "        else:\n",
    "            xcord2.append(dataArr[i,1])\n",
    "            ycord2.append(dataArr[i,2])\n",
    "            \n",
    "    plt.figure(figsize=(8,8))\n",
    "    plt.scatter(xcord1,ycord1,s=30,c='red',marker='s')\n",
    "    plt.scatter(xcord2,ycord2,s=30,c='green')\n",
    "    \n",
    "    # 绘制分界线\n",
    "    x=np.arange(-3,3,0.1)\n",
    "    y=-(weights[0]+weights[1]*x)/weights[2]    # 解方程得到的直线表达式\n",
    "    plt.plot(x,y,'k')\n",
    "    plt.xlabel('x1')\n",
    "    plt.xlabel('x2')\n",
    "    plt.title('Logistic Regression 2 classes')\n",
    "    plt.show()\n",
    "    \n",
    "    \n",
    "plotBestFit(weights1)"
   ]
  },
  {
   "cell_type": "markdown",
   "metadata": {},
   "source": [
    "### 5.2.4 随机梯度上升\n",
    "\n",
    "#### 代码清单 5-4 改进的随机梯度上升算法\n"
   ]
  },
  {
   "cell_type": "code",
   "execution_count": 28,
   "metadata": {},
   "outputs": [],
   "source": [
    "def stocGradAscent1(dataMat, classLabels, numIter=150):\n",
    "    dataMat = np.array(dataMat)\n",
    "    m, n = dataMat.shape\n",
    "    weights = np.ones(n)\n",
    "\n",
    "    for j in range(numIter):\n",
    "        for i in range(m):\n",
    "            alpha = 4/(1+i+j)+0.01    # 变学习率，随着迭代次数的增加而减少\n",
    "            randIndex = int(np.random.uniform(0, m))    # 随机选取样本的idx\n",
    "            h = sigmoid(dataMat[randIndex].dot(weights))\n",
    "            error = classLabels[randIndex]-h\n",
    "            weights += alpha*error*dataMat[randIndex]    # 数值 乘\n",
    "    return weights\n",
    "\n",
    "\n",
    "weights2 = stocGradAscent1(X, y)\n"
   ]
  },
  {
   "cell_type": "code",
   "execution_count": 29,
   "metadata": {},
   "outputs": [
    {
     "data": {
      "text/plain": [
       "array([13.41774244,  1.2713328 , -2.00402617])"
      ]
     },
     "execution_count": 29,
     "metadata": {},
     "output_type": "execute_result"
    }
   ],
   "source": [
    "weights2"
   ]
  },
  {
   "cell_type": "code",
   "execution_count": 32,
   "metadata": {},
   "outputs": [
    {
     "data": {
      "image/png": "[encoded data removed]",
      "text/plain": [
       "<Figure size 576x576 with 1 Axes>"
      ]
     },
     "metadata": {
      "needs_background": "light"
     },
     "output_type": "display_data"
    }
   ],
   "source": [
    "plotBestFit(weights2)"
   ]
  },
  {
   "cell_type": "markdown",
   "metadata": {},
   "source": [
    "#### 尝试使用随机批量 梯度提升法\n"
   ]
  },
  {
   "cell_type": "code",
   "execution_count": 30,
   "metadata": {},
   "outputs": [],
   "source": [
    "def BatchGradAscent(dataMat, classLabels, numIter=150):\n",
    "    dataMat = np.array(dataMat)\n",
    "    classLabels=np.array(classLabels)\n",
    "    m, n = dataMat.shape\n",
    "    weights = np.ones(n)\n",
    "    batchsize=int(m/10)\n",
    "\n",
    "    for j in range(numIter):\n",
    "        alpha=4/(j)+0.002\n",
    "        randIndexs=np.random.randint(0,m,batchsize)\n",
    "        h=sigmoid(dataMat[randIndexs].dot(weights))\n",
    "        error=classLabels[randIndexs]-h\n",
    "        weights+=alpha*dataMat.T.dot(error)\n",
    "    return weights\n",
    "\n",
    "\n",
    "weights3 = stocGradAscent1(X, y)\n"
   ]
  },
  {
   "cell_type": "code",
   "execution_count": 31,
   "metadata": {},
   "outputs": [
    {
     "data": {
      "text/plain": [
       "array([13.91005796,  1.39331121, -1.86588569])"
      ]
     },
     "execution_count": 31,
     "metadata": {},
     "output_type": "execute_result"
    }
   ],
   "source": [
    "weights3"
   ]
  },
  {
   "cell_type": "code",
   "execution_count": 33,
   "metadata": {},
   "outputs": [
    {
     "data": {
      "image/png": "[encoded data removed]",
      "text/plain": [
       "<Figure size 576x576 with 1 Axes>"
      ]
     },
     "metadata": {
      "needs_background": "light"
     },
     "output_type": "display_data"
    }
   ],
   "source": [
    "plotBestFit(weights3)"
   ]
  },
  {
   "cell_type": "code",
   "execution_count": null,
   "metadata": {},
   "outputs": [],
   "source": []
  }
 ],
 "metadata": {
  "kernelspec": {
   "display_name": "Python 3.9.7 ('base')",
   "language": "python",
   "name": "python3"
  },
  "language_info": {
   "codemirror_mode": {
    "name": "ipython",
    "version": 3
   },
   "file_extension": ".py",
   "mimetype": "text/x-python",
   "name": "python",
   "nbconvert_exporter": "python",
   "pygments_lexer": "ipython3",
   "version": "3.9.7"
  },
  "orig_nbformat": 4,
  "vscode": {
   "interpreter": {
    "hash": "69bb06a9fb724e3616bb36eae2c2891ed4de586fe76c0b350d4e65619dfe458e"
   }
  }
 },
 "nbformat": 4,
 "nbformat_minor": 2
}
