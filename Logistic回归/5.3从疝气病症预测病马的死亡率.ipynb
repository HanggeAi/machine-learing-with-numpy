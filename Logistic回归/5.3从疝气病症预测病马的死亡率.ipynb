{
 "cells": [
  {
   "cell_type": "markdown",
   "metadata": {},
   "source": [
    "### 5.3.1 准备数据：处理数据中的缺失值\n",
    "- 特征中有缺失值，则使用0填充\n",
    "- Label中有缺失值，则丢弃该样本"
   ]
  },
  {
   "cell_type": "markdown",
   "metadata": {},
   "source": [
    "### 5.3.2 测试算法：使用Logistic回归进行分类\n",
    "#### 程序清单5-5 Logistic回归分类函数"
   ]
  },
  {
   "cell_type": "code",
   "execution_count": 5,
   "metadata": {},
   "outputs": [
    {
     "name": "stderr",
     "output_type": "stream",
     "text": [
      "C:\\Users\\Administrator\\AppData\\Local\\Temp/ipykernel_3412/270492039.py:5: RuntimeWarning: overflow encountered in exp\n",
      "  return 1.0/(1+np.exp(-x))\n"
     ]
    },
    {
     "name": "stdout",
     "output_type": "stream",
     "text": [
      "the error rate of this test is :  0.23880597014925373\n",
      "the error rate of this test is :  0.5671641791044776\n",
      "the error rate of this test is :  0.2537313432835821\n",
      "the error rate of this test is :  0.44776119402985076\n",
      "the error rate of this test is :  0.4925373134328358\n",
      "the error rate of this test is :  0.3283582089552239\n",
      "the error rate of this test is :  0.2835820895522388\n",
      "the error rate of this test is :  0.26865671641791045\n",
      "the error rate of this test is :  0.26865671641791045\n",
      "the error rate of this test is :  0.3582089552238806\n",
      "after 10 iterations the average error rate is: 0.350746\n"
     ]
    }
   ],
   "source": [
    "import numpy as np\n",
    "\n",
    "\n",
    "def sigmoid(x):\n",
    "    return 1.0/(1+np.exp(-x))\n",
    "\n",
    "\n",
    "def classifyVector(x,weights):\n",
    "    \"\"\"预测模块\"\"\"\n",
    "    prob=sigmoid(np.sum(x.dot(weights)))    \n",
    "    if prob>0.5:return 1.0\n",
    "    else:return 0.0\n",
    "    \n",
    "\n",
    "def stocGradAscent1(dataMat, classLabels, numIter=150):\n",
    "    dataMat = np.array(dataMat)\n",
    "    m, n = dataMat.shape\n",
    "    weights = np.ones(n)\n",
    "\n",
    "    for j in range(numIter):\n",
    "        for i in range(m):\n",
    "            alpha = 4/(1+i+j)+0.01    # 变学习率，随着迭代次数的增加而减少\n",
    "            randIndex = int(np.random.uniform(0, m))    # 随机选取样本的idx\n",
    "            h = sigmoid(dataMat[randIndex].dot(weights))\n",
    "            error = classLabels[randIndex]-h\n",
    "            weights += alpha*error*dataMat[randIndex]    # 数值 乘\n",
    "    return weights\n",
    "\n",
    "\n",
    "def colicTest():\n",
    "    frTrain=open('D:\\\\机器学习实战代码\\\\machinelearninginaction\\\\Ch05\\\\horseColicTraining.txt')\n",
    "    frTest = open('D:\\\\机器学习实战代码\\\\machinelearninginaction\\\\Ch05\\\\horseColicTest.txt')\n",
    "    # 读取训练集数据\n",
    "    trainSet=[]\n",
    "    trainLabels=[]\n",
    "    for line in frTrain.readlines():\n",
    "        currentLine=line.strip().split('\\t')\n",
    "        lineArr=[]\n",
    "        for i in range(21):\n",
    "            lineArr.append(float(currentLine[i]))\n",
    "        trainSet.append(lineArr)\n",
    "        trainLabels.append(float(currentLine[-1]))\n",
    "    frTrain.close()\n",
    "    \n",
    "    trainWeights=stocGradAscent1(trainSet,trainLabels,500)\n",
    "    errorCount=0    # 误分类样本个数\n",
    "    numTestVec=0.0    # 参与测试的样本个数\n",
    "    \n",
    "    # 读取测试集数据,并测试\n",
    "    for line in frTest.readlines():\n",
    "        currentLine=line.strip().split('\\t')\n",
    "        numTestVec+=1\n",
    "        lineArr=[]    # 测试集自变量\n",
    "        for i in range(21):\n",
    "            lineArr.append(float(currentLine[i]))\n",
    "        if int(classifyVector(np.array(lineArr), trainWeights)) != int(currentLine[-1]):\n",
    "            errorCount+=1    # 预测结果与实际结果对不上，则误分数+1\n",
    "    frTest.close()    \n",
    "    errorRate=errorCount/numTestVec    # 误分率\n",
    "    print('the error rate of this test is : ',errorRate)\n",
    "    return errorRate\n",
    "\n",
    "\n",
    "def multiTest():\n",
    "    \"\"\"多次测试求误分率的均值\"\"\"\n",
    "    numTest=10\n",
    "    errorSum=0\n",
    "    for k in range(numTest):\n",
    "        errorSum+=colicTest()\n",
    "    print('after %d iterations the average error rate is: %f'%(numTest,errorSum/numTest))\n",
    "    \n",
    "    \n",
    "multiTest()\n"
   ]
  },
  {
   "cell_type": "code",
   "execution_count": null,
   "metadata": {},
   "outputs": [],
   "source": []
  }
 ],
 "metadata": {
  "kernelspec": {
   "display_name": "Python 3.9.7 ('base')",
   "language": "python",
   "name": "python3"
  },
  "language_info": {
   "codemirror_mode": {
    "name": "ipython",
    "version": 3
   },
   "file_extension": ".py",
   "mimetype": "text/x-python",
   "name": "python",
   "nbconvert_exporter": "python",
   "pygments_lexer": "ipython3",
   "version": "3.9.7"
  },
  "orig_nbformat": 4,
  "vscode": {
   "interpreter": {
    "hash": "69bb06a9fb724e3616bb36eae2c2891ed4de586fe76c0b350d4e65619dfe458e"
   }
  }
 },
 "nbformat": 4,
 "nbformat_minor": 2
}
