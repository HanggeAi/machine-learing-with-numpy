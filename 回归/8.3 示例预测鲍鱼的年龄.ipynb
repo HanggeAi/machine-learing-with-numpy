{
 "cells": [
  {
   "cell_type": "markdown",
   "metadata": {},
   "source": [
    "#### 这部分其实就是使用上面的局部加权回归去探究合适的k，使得其能够不过你和也不欠拟合"
   ]
  },
  {
   "cell_type": "code",
   "execution_count": null,
   "metadata": {},
   "outputs": [],
   "source": [
    "def rssError(yArr,yHatArr):\n",
    "    return ((yHatArr - yArr)**2).sum()"
   ]
  }
 ],
 "metadata": {
  "language_info": {
   "name": "python"
  },
  "orig_nbformat": 4
 },
 "nbformat": 4,
 "nbformat_minor": 2
}
