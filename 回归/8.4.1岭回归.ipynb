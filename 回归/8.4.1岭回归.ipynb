{
 "cells": [
  {
   "cell_type": "markdown",
   "metadata": {},
   "source": [
    "#### 程序清单8-3 岭回归"
   ]
  },
  {
   "cell_type": "code",
   "execution_count": 19,
   "metadata": {},
   "outputs": [],
   "source": [
    "import numpy as np\n",
    "\n",
    "\n",
    "def ridgeRegres(xMat, yMat, lam=0.2):\n",
    "    \"\"\"记忆书上p146的公式直接计算岭回归的系数\"\"\"\n",
    "    xTx = xMat.T*xMat\n",
    "    denom = xTx+np.eye(xMat.shape[1])*lam\n",
    "    if np.linalg.det(denom) == 0:\n",
    "        print('矩阵不可逆')\n",
    "        return\n",
    "    ws = denom.I*(xMat.T*yMat)\n",
    "    return ws\n",
    "\n",
    "\n",
    "def ridgeTest(xArr, yArr,):\n",
    "    xMat = np.mat(xArr)\n",
    "    yMat = np.mat(yArr).T\n",
    "    # 数据标准化\n",
    "    xMean = xMat.mean(0)\n",
    "    xStd = xMat.std(0)\n",
    "    yMean = yMat.mean(0)\n",
    "\n",
    "    yMat = yMat-yMean\n",
    "    xMat-=xMean\n",
    "\n",
    "    numTestPoints = 30    # 测试次数\n",
    "    wMat = np.zeros((numTestPoints, np.shape(xMat)[1]))    # 保存每次测试得到的权值\n",
    "    for i in range(numTestPoints):\n",
    "        ws = ridgeRegres(xMat, yMat, np.exp(i-10))    # 让lambda呈指数级变化\n",
    "\n",
    "        wMat[i, :] = ws.T\n",
    "    return wMat\n",
    "\n",
    "\n",
    "# 加载数据\n",
    "def loadDataSet(filename):\n",
    "    numFeat = len(open(filename).readline().strip().split('\\t'))-1\n",
    "    dataMat = []\n",
    "    labelMat = []\n",
    "    for line in open(filename).readlines():\n",
    "        lineArr = []\n",
    "        currentLine = line.strip().split('\\t')\n",
    "        for i in range(numFeat):\n",
    "            lineArr.append(float(currentLine[i]))\n",
    "        dataMat.append(lineArr)\n",
    "        labelMat.append(float(currentLine[-1]))\n",
    "    return dataMat, labelMat\n",
    "\n",
    "\n",
    "dataPath = 'D:\\\\机器学习实战代码\\\\machinelearninginaction\\\\Ch08\\\\ex0.txt'\n",
    "xArr, yArr = loadDataSet(dataPath)\n",
    "\n",
    "ridgeWeights = ridgeTest(xArr, yArr)\n"
   ]
  },
  {
   "cell_type": "code",
   "execution_count": null,
   "metadata": {},
   "outputs": [],
   "source": []
  }
 ],
 "metadata": {
  "kernelspec": {
   "display_name": "Python 3.9.7 ('base')",
   "language": "python",
   "name": "python3"
  },
  "language_info": {
   "codemirror_mode": {
    "name": "ipython",
    "version": 3
   },
   "file_extension": ".py",
   "mimetype": "text/x-python",
   "name": "python",
   "nbconvert_exporter": "python",
   "pygments_lexer": "ipython3",
   "version": "3.9.7"
  },
  "orig_nbformat": 4,
  "vscode": {
   "interpreter": {
    "hash": "69bb06a9fb724e3616bb36eae2c2891ed4de586fe76c0b350d4e65619dfe458e"
   }
  }
 },
 "nbformat": 4,
 "nbformat_minor": 2
}
