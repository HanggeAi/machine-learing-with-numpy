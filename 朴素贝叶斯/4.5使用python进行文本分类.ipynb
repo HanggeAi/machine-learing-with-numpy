{
 "cells": [
  {
   "cell_type": "markdown",
   "metadata": {},
   "source": [
    "### 4.5.1 准备数据：从文本中构建词向量\n",
    "#### 程序清单4-1 词表到向量的转换函数"
   ]
  },
  {
   "cell_type": "code",
   "execution_count": 1,
   "metadata": {},
   "outputs": [],
   "source": [
    "def loadDataSet():\n",
    "    postingList=[\n",
    "        'my dog has flea problems help please'.split(),\n",
    "        'maybe not take him to dog park stupid'.split(),\n",
    "        'my dalmation is so cute i love him'.split(),\n",
    "        'stop posting stupid worthless garbage'.split(),\n",
    "        'mr licks ate my steak how to stop him'.split(),\n",
    "        'quit buying worthless dog food stupid'.split(),\n",
    "    ]\n",
    "    classVec=[0,1,0,1,0,1]\n",
    "    return postingList,classVec\n",
    "\n",
    "\n",
    "def createVocabList(dataSet):\n",
    "    \"\"\"返回dataSet中所有unique的单词\"\"\"\n",
    "    vocabSet=set([])\n",
    "    for document in dataSet:\n",
    "        vocabSet=vocabSet|set(document)\n",
    "    return list(vocabSet)\n",
    "\n",
    "\n",
    "def setOfWords2Vec(vocabList,inputSet):\n",
    "    \"\"\"将inputSet(单个样本)转化为one-hot形式,特征为vocabList,取值为0,1\"\"\"\n",
    "    returnVec=[0]*len(vocabList)\n",
    "    for vec in vocabList:\n",
    "        if vec in inputSet:\n",
    "            returnVec[vocabList.index(vec)]=1\n",
    "    return returnVec"
   ]
  },
  {
   "cell_type": "code",
   "execution_count": 2,
   "metadata": {},
   "outputs": [
    {
     "data": {
      "text/plain": [
       "[['my', 'dog', 'has', 'flea', 'problems', 'help', 'please'],\n",
       " ['maybe', 'not', 'take', 'him', 'to', 'dog', 'park', 'stupid'],\n",
       " ['my', 'dalmation', 'is', 'so', 'cute', 'i', 'love', 'him'],\n",
       " ['stop', 'posting', 'stupid', 'worthless', 'garbage'],\n",
       " ['mr', 'licks', 'ate', 'my', 'steak', 'how', 'to', 'stop', 'him'],\n",
       " ['quit', 'buying', 'worthless', 'dog', 'food', 'stupid']]"
      ]
     },
     "execution_count": 2,
     "metadata": {},
     "output_type": "execute_result"
    }
   ],
   "source": [
    "# 测试一下以上函数的效果\n",
    "listOPosts,listClasses=loadDataSet()\n",
    "listOPosts"
   ]
  },
  {
   "cell_type": "code",
   "execution_count": 3,
   "metadata": {},
   "outputs": [
    {
     "data": {
      "text/plain": [
       "32"
      ]
     },
     "execution_count": 3,
     "metadata": {},
     "output_type": "execute_result"
    }
   ],
   "source": [
    "myVocabList=createVocabList(listOPosts)\n",
    "len(myVocabList)"
   ]
  },
  {
   "cell_type": "code",
   "execution_count": 4,
   "metadata": {},
   "outputs": [
    {
     "data": {
      "text/plain": [
       "[1,\n",
       " 0,\n",
       " 0,\n",
       " 0,\n",
       " 0,\n",
       " 1,\n",
       " 0,\n",
       " 0,\n",
       " 1,\n",
       " 0,\n",
       " 0,\n",
       " 0,\n",
       " 0,\n",
       " 0,\n",
       " 0,\n",
       " 0,\n",
       " 0,\n",
       " 1,\n",
       " 0,\n",
       " 1,\n",
       " 0,\n",
       " 0,\n",
       " 0,\n",
       " 0,\n",
       " 0,\n",
       " 1,\n",
       " 0,\n",
       " 0,\n",
       " 1,\n",
       " 0,\n",
       " 0,\n",
       " 0]"
      ]
     },
     "execution_count": 4,
     "metadata": {},
     "output_type": "execute_result"
    }
   ],
   "source": [
    "setOfWords2Vec(myVocabList,listOPosts[0])"
   ]
  },
  {
   "cell_type": "markdown",
   "metadata": {},
   "source": [
    "### 4.5.2 训练算法：从词向量计算概率\n",
    "#### 计算每个类别的条件概率\n",
    "#### 程序清单4-2 朴素贝叶斯分类器训练函数"
   ]
  },
  {
   "cell_type": "code",
   "execution_count": 5,
   "metadata": {},
   "outputs": [],
   "source": [
    "import numpy as np\n",
    "\n",
    "\n",
    "def trainNB0(trainMatrix, trainCategory):\n",
    "    \"\"\"trainMatrix:one-hot类型,自变量X\n",
    "    trainCategory::因变量y\"\"\"\n",
    "    num = len(trainMatrix)    # 样本数量\n",
    "    numWords = len(trainMatrix[0])    # X(one-hot)特征个数\n",
    "    pAbusive = sum(trainCategory)/float(num)    # 侮辱性样本比例，即：p(1)\n",
    "    p0Num = np.zeros(numWords)\n",
    "    p1Num = np.zeros(numWords)\n",
    "    p0Denom = 0.0\n",
    "    p1Denom = 0.0\n",
    "\n",
    "    for i in range(num):\n",
    "        if trainCategory[i] == 1:    # 第一类（侮辱类评论）\n",
    "            p1Num += trainMatrix[i]\n",
    "            p1Denom += sum(trainMatrix[i])\n",
    "        else:                        # 第二类（非侮辱类评论）\n",
    "            p0Num += trainMatrix[i]\n",
    "            p0Denom += sum(trainMatrix[i])\n",
    "    p1Vect = p1Num/p1Denom\n",
    "    p0Vect = p0Num/p0Denom\n",
    "\n",
    "    return p0Vect, p1Vect, pAbusive\n",
    "# 注意这里返回的p0Vect的含义是：\n",
    "# p(wi|c1) for i in range(numWords)    # numWords:特征个数\n",
    "\n",
    "# 注意这里返回的p1Vect的含义是：\n",
    "# p(wi|c0) for i in range(numWords)    # numWords:特征个数\n"
   ]
  },
  {
   "cell_type": "markdown",
   "metadata": {},
   "source": [
    "#### 有两个问题需要解决：\n",
    "- 有一个特征对应的概率为零，累乘将导致最终的结果为0。解决方法：分子分母都加1\n",
    "- 若干个较小的数相乘，导致最后的结果过小，造成计算机下溢出。解决方法：取对数\n",
    "#### 则上述代码改为："
   ]
  },
  {
   "cell_type": "code",
   "execution_count": 6,
   "metadata": {},
   "outputs": [],
   "source": [
    "def trainNB0(trainMatrix, trainCategory):\n",
    "    \"\"\"trainMatrix:one-hot类型,自变量X\n",
    "    trainCategory::因变量y\"\"\"\n",
    "    num = len(trainMatrix)    # 样本数量\n",
    "    numWords = len(trainMatrix[0])    # X(one-hot)特征个数\n",
    "    pAbusive = sum(trainCategory)/float(num)    # 侮辱性样本比例，即：p(1)\n",
    "    p0Num = np.ones(numWords)    # 分子分母都加1\n",
    "    p1Num = np.ones(numWords)    # 分子分母都加1\n",
    "    p0Denom =1.0\n",
    "    p1Denom = 1.0    # 这几行代码都做了更改，分子分母都加1，防止出现0的情况\n",
    "\n",
    "    for i in range(num):\n",
    "        if trainCategory[i] == 1:\n",
    "            p1Num += trainMatrix[i]\n",
    "            p1Denom += sum(trainMatrix[i])\n",
    "        else:\n",
    "            p0Num += trainMatrix[i]\n",
    "            p0Denom += sum(trainMatrix[i])\n",
    "    p1Vect = np.log(p1Num/p1Denom)\n",
    "    p0Vect = np.log(p0Num/p0Denom)    # 取对数，防止计算机下溢出\n",
    "\n",
    "    return p0Vect, p1Vect, pAbusive\n"
   ]
  },
  {
   "cell_type": "markdown",
   "metadata": {},
   "source": [
    "### 4.5.3 测试算法：\n",
    "#### 程序清单4-3 朴素贝叶斯分类函数"
   ]
  },
  {
   "cell_type": "code",
   "execution_count": 7,
   "metadata": {},
   "outputs": [
    {
     "name": "stdout",
     "output_type": "stream",
     "text": [
      "['love', 'my', 'dalmation'] is classified as :  0\n",
      "['stupid', 'parbage'] is classified as :  1\n"
     ]
    }
   ],
   "source": [
    "def classifyNB(vec2Classify,p0Vec,p1Vec,pClass1):\n",
    "    \"\"\"\n",
    "    vec2Classify:待测样本特征w\n",
    "    p0Vec:p(w|c0)\n",
    "    p1Vec:p(w|c1)\n",
    "    pClass1:p(c1)\n",
    "    \"\"\"\n",
    "    p1=np.sum(vec2Classify*p1Vec)+np.log(pClass1)    # 两项都取对数，由原来的乘变成了加（第一项在上面的函数中取过对数了）\n",
    "    p0=np.sum(vec2Classify*p0Vec)+np.log(1-pClass1) #\n",
    "    if p1>p0:\n",
    "        return 1\n",
    "    else:\n",
    "        return 0\n",
    "    \n",
    "\n",
    "def testingNB():\n",
    "    listOPosts,listClasses = loadDataSet()\n",
    "    myVocabList = createVocabList(listOPosts)    # 创建词汇表集合\n",
    "    # one-hot 形式的转化\n",
    "    trainMat=[]\n",
    "    for postinDoc in listOPosts:\n",
    "        trainMat.append(setOfWords2Vec(myVocabList,postinDoc))\n",
    "        \n",
    "    # 训练集的训练\n",
    "    p0V,p1V,pAb=trainNB0(trainMat,np.array(listClasses))\n",
    "    # 测试数据\n",
    "    testEntry=['love','my','dalmation']\n",
    "    thisDoc=np.array(setOfWords2Vec(myVocabList,testEntry))    # 将测试样本转换为one-hot形式\n",
    "    print(testEntry,'is classified as : ',classifyNB(thisDoc,p0V,p1V,pAb))\n",
    "    \n",
    "    # 换一条测试样本在测试\n",
    "    testEntry=['stupid','parbage']\n",
    "    thisDoc=np.array(setOfWords2Vec(myVocabList,testEntry))    # 将测试样本转换为one-hot形式\n",
    "    print(testEntry,'is classified as : ',classifyNB(thisDoc,p0V,p1V,pAb))\n",
    "    \n",
    "    \n",
    "testingNB()\n"
   ]
  },
  {
   "cell_type": "markdown",
   "metadata": {},
   "source": [
    "### 4.5.4 准备数据：文档词袋模型\n",
    "函数setOfWords2Vec()的改进版，对于重复出现的词，会将其频数置为多次，而不仅仅是one-hot的0和1\n",
    "#### 程序清单4-4 朴素贝叶斯词袋模型"
   ]
  },
  {
   "cell_type": "code",
   "execution_count": 8,
   "metadata": {},
   "outputs": [
    {
     "ename": "SyntaxError",
     "evalue": "invalid syntax (Temp/ipykernel_32728/3696656995.py, line 1)",
     "output_type": "error",
     "traceback": [
      "\u001b[1;36m  File \u001b[1;32m\"C:\\Users\\Administrator\\AppData\\Local\\Temp/ipykernel_32728/3696656995.py\"\u001b[1;36m, line \u001b[1;32m1\u001b[0m\n\u001b[1;33m    def bagOfWords\u001b[0m\n\u001b[1;37m                  ^\u001b[0m\n\u001b[1;31mSyntaxError\u001b[0m\u001b[1;31m:\u001b[0m invalid syntax\n"
     ]
    }
   ],
   "source": [
    "def bagOfWordsVecMN(vocabList,inputSet):\n",
    "    \"\"\"考虑样本中重复的词\"\"\"\n",
    "    returnVec=[0]*len(vocabList)\n",
    "    for word in inputSet:\n",
    "        if word in vocabList:\n",
    "            returnVec[vocabList.index(word)]+=1\n",
    "            \n",
    "    return returnVec"
   ]
  }
 ],
 "metadata": {
  "kernelspec": {
   "display_name": "Python 3.9.7 ('base')",
   "language": "python",
   "name": "python3"
  },
  "language_info": {
   "codemirror_mode": {
    "name": "ipython",
    "version": 3
   },
   "file_extension": ".py",
   "mimetype": "text/x-python",
   "name": "python",
   "nbconvert_exporter": "python",
   "pygments_lexer": "ipython3",
   "version": "3.9.7"
  },
  "orig_nbformat": 4,
  "vscode": {
   "interpreter": {
    "hash": "69bb06a9fb724e3616bb36eae2c2891ed4de586fe76c0b350d4e65619dfe458e"
   }
  }
 },
 "nbformat": 4,
 "nbformat_minor": 2
}
