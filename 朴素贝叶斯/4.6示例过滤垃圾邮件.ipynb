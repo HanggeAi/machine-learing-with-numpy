{
 "cells": [
  {
   "cell_type": "markdown",
   "metadata": {},
   "source": [
    "### 这是朴素贝叶斯分类器的一个最著名的应用"
   ]
  },
  {
   "cell_type": "code",
   "execution_count": 7,
   "metadata": {},
   "outputs": [],
   "source": [
    "\n",
    "import numpy as np\n",
    "\n",
    "# 之前定义好的函数，直接复制过来\n",
    "def trainNB0(trainMatrix, trainCategory):\n",
    "    \"\"\"trainMatrix:one-hot类型,自变量X\n",
    "    trainCategory::因变量y\"\"\"\n",
    "    num = len(trainMatrix)    # 样本数量\n",
    "    numWords = len(trainMatrix[0])    # X(one-hot)特征个数\n",
    "    pAbusive = sum(trainCategory)/float(num)    # 侮辱性样本比例，即：p(1)\n",
    "    p0Num = np.ones(numWords)\n",
    "    p1Num = np.ones(numWords)\n",
    "    p0Denom = 1.0\n",
    "    p1Denom = 1.0    # 这几行代码都做了更改，分子分母都加1，防止出现0的情况\n",
    "\n",
    "    for i in range(num):\n",
    "        if trainCategory[i] == 1:\n",
    "            p1Num += trainMatrix[i]\n",
    "            p1Denom += sum(trainMatrix[i])\n",
    "        else:\n",
    "            p0Num += trainMatrix[i]\n",
    "            p0Denom += sum(trainMatrix[i])\n",
    "    p1Vect = np.log(p1Num/p1Denom)\n",
    "    p0Vect = np.log(p0Num/p0Denom)    # 取对数，防止计算机下溢出\n",
    "\n",
    "    return p0Vect, p1Vect, pAbusive\n",
    "\n",
    "\n",
    "def createVocabList(dataSet):\n",
    "    \"\"\"返回dataSet中所有unique的单词\"\"\"\n",
    "    vocabSet = set([])\n",
    "    for document in dataSet:\n",
    "        vocabSet = vocabSet | set(document)\n",
    "    return list(vocabSet)\n",
    "\n",
    "\n",
    "def setOfWords2Vec(vocabList, inputSet):\n",
    "    \"\"\"将inputSet(单个样本)转化为one-hot形式,特征为vocabList,取值为0,1\"\"\"\n",
    "    returnVec = [0]*len(vocabList)\n",
    "    for vec in vocabList:\n",
    "        if vec in inputSet:\n",
    "            returnVec[vocabList.index(vec)] = 1\n",
    "    return returnVec\n",
    "\n",
    "\n",
    "def classifyNB(vec2Classify, p0Vec, p1Vec, pClass1):\n",
    "    # 两项都取对数，由原来的乘变成了加（第一项在上面的函数中取过对数了）\n",
    "    p1 = np.sum(vec2Classify*p1Vec)+np.log(pClass1)\n",
    "    p0 = np.sum(vec2Classify*p0Vec)+np.log(1-pClass1)\n",
    "    if p1 > p0:\n",
    "        return 1\n",
    "    else:\n",
    "        return 0\n"
   ]
  },
  {
   "cell_type": "markdown",
   "metadata": {},
   "source": [
    "### 4.6.2 测试算法：使用朴素贝叶斯进行交叉验证\n",
    "#### 程序清单4-5 文件解析及完整的垃圾邮件测试函数"
   ]
  },
  {
   "cell_type": "code",
   "execution_count": 8,
   "metadata": {},
   "outputs": [
    {
     "name": "stdout",
     "output_type": "stream",
     "text": [
      "the error rate is:  0.0\n"
     ]
    },
    {
     "name": "stderr",
     "output_type": "stream",
     "text": [
      "C:\\Users\\Administrator\\AppData\\Local\\Temp/ipykernel_21208/1627204862.py:48: RuntimeWarning: divide by zero encountered in log\n",
      "  p0 = np.sum(vec2Classify*p0Vec)+np.log(1-pClass1)\n"
     ]
    }
   ],
   "source": [
    "def textParse(bigString):\n",
    "    \"\"\"将长字符串解析为单词列表\"\"\"\n",
    "    import re\n",
    "    listOfTokens = re.split(r'\\W*', bigString)\n",
    "    return [tok.lower() for tok in listOfTokens if len(tok) > 2]\n",
    "\n",
    "\n",
    "def spamTest():\n",
    "    docList = []\n",
    "    classList = []\n",
    "    fullList = []\n",
    "\n",
    "    for i in range(1, 26):\n",
    "        # 正例\n",
    "        wordList = textParse(\n",
    "            open('D:\\\\机器学习实战代码\\\\machinelearninginaction\\\\Ch04\\\\email\\\\spam\\\\%d.txt' % i).read())\n",
    "        docList.append(wordList)\n",
    "        fullList.extend(wordList)\n",
    "        classList.append(1)\n",
    "        # 反例\n",
    "        wordList = textParse(\n",
    "            open('D:\\\\机器学习实战代码\\\\machinelearninginaction\\\\Ch04\\\\email\\\\ham\\\\%d.txt' % i,\n",
    "                 encoding=\"ISO-8859-1\").read())\n",
    "        docList.append(wordList)\n",
    "        fullList.extend(wordList)\n",
    "        classList.append(1)\n",
    "\n",
    "    vocabList = createVocabList(docList)\n",
    "    trainingSet = list(range(50))\n",
    "    testSet = []\n",
    "    # 随机构建训练集和测试集\n",
    "    for i in range(10):\n",
    "        randIndex = int(np.random.uniform(0, len(trainingSet)))\n",
    "        testSet.append(trainingSet[randIndex])    # 测试集\n",
    "        del(trainingSet[randIndex])    # 将抽出去的测试集从trainingSet中删除，余下的作为训练集\n",
    "\n",
    "    trainMat = []    # 训练数据的矩阵，为one-hot\n",
    "    trainClasses = []\n",
    "    for docIndex in trainingSet:\n",
    "        trainMat.append(setOfWords2Vec(\n",
    "            vocabList, docList[docIndex]))    # 加入一行one-hot\n",
    "        trainClasses.append(classList[docIndex])\n",
    "\n",
    "    # 训练\n",
    "    p0V, p1V, pSam = trainNB0(np.array(trainMat), np.array(trainClasses))\n",
    "\n",
    "    # 测试\n",
    "    errorCount = 0\n",
    "    for docIndex in testSet:\n",
    "        wordVector = setOfWords2Vec(vocabList, docList[docIndex])\n",
    "        if classifyNB(np.array(wordList), p0V, p1V, pSam) != classList[docIndex]:\n",
    "            errorCount += 1\n",
    "    print('the error rate is: ', float(errorCount)/len(testSet))\n",
    "\n",
    "\n",
    "spamTest()\n"
   ]
  }
 ],
 "metadata": {
  "kernelspec": {
   "display_name": "Python 3.9.7 ('base')",
   "language": "python",
   "name": "python3"
  },
  "language_info": {
   "codemirror_mode": {
    "name": "ipython",
    "version": 3
   },
   "file_extension": ".py",
   "mimetype": "text/x-python",
   "name": "python",
   "nbconvert_exporter": "python",
   "pygments_lexer": "ipython3",
   "version": "3.9.7"
  },
  "orig_nbformat": 4,
  "vscode": {
   "interpreter": {
    "hash": "69bb06a9fb724e3616bb36eae2c2891ed4de586fe76c0b350d4e65619dfe458e"
   }
  }
 },
 "nbformat": 4,
 "nbformat_minor": 2
}
