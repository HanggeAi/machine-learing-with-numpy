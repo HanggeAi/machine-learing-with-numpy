{
 "cells": [
  {
   "cell_type": "markdown",
   "metadata": {},
   "source": [
    "### Hadoop流，很像Linux中的管道，可以将一个命令的输出作为另一个命令的输入。\n",
    "### 如果用mapper.py调用mapper,用reducer.py调用reducer，那么Hadoop流将可以像Linux命令一样执行，例如：\n",
    "```bash\n",
    "cat inputFile.txt | python mapper.py | python reducer.py > outputFile.txt\n",
    "```"
   ]
  },
  {
   "cell_type": "markdown",
   "metadata": {},
   "source": [
    "#### 程序清单 15-1 分布式计算均值和方差的mapper"
   ]
  },
  {
   "cell_type": "code",
   "execution_count": 1,
   "metadata": {},
   "outputs": [],
   "source": [
    "import sys,numpy as np\n",
    "\n",
    "\n",
    "def read_input(file):\n",
    "    for line in file:\n",
    "        yield line.rstrip()\n",
    "        \n",
    "\n",
    "input=read_input(sys.stdin)\n",
    "input=[float(line) for line in input]\n",
    "numInputs=len(input)\n",
    "input=np.mat(input)\n",
    "sqInput=np.power(input,2)\n",
    "\n",
    "print('%s\\t%f\\t%f'%(numInputs,np.mean(input),np.mean(sqInput)))\n",
    "print(\"report: still alive.\", file=sys.stderr)\n"
   ]
  },
  {
   "cell_type": "markdown",
   "metadata": {},
   "source": [
    "### 在Window系统下，通过命令行窗口输入一下命令：\n",
    "```bash\n",
    "python meMeanMapper.py < inputFile.txt\n",
    "```\n",
    "——即可完成对mapper的测试."
   ]
  },
  {
   "cell_type": "markdown",
   "metadata": {},
   "source": [
    "### 15.2.2 分布式计算均值和方差的reducer\n",
    "#### 程序清单15-2 分布式计算均值和方差的reducer"
   ]
  },
  {
   "cell_type": "code",
   "execution_count": null,
   "metadata": {},
   "outputs": [],
   "source": [
    "def read_input(file):\n",
    "    for line in file:\n",
    "        yield line.rstrip()\n",
    "        \n",
    "        \n",
    "input=read_input(sys.stdin)\n",
    "mapperOut=[line.split('\\t') for line in input]\n",
    "cumVal=0.0\n",
    "cumSumSq=0.0\n",
    "cumN=0.0\n",
    "\n",
    "for instance in mapperOut:\n",
    "    nj=float(instance[0])    # 样本个数\n",
    "    cumN+=nj\n",
    "    cumVal+=nj*float(instance[1])    # 所有值的总和\n",
    "    cumSumSq+=nj*float(instance[2])    # 所有值的总的平方和\n",
    "mean=cumVal/cumN    # 合并之后的总体均值\n",
    "varSum=(cumSumSq-2*mean*cumVal+cumN*mean*mean)/cumN\n",
    "print(\"%d\\t%f\\t%f\"%(cumN,mean,varSum))\n",
    "# 此语法意味着写入文件对象（在本例中为sys.stderr），而不是标准输出。\n",
    "print(\"report: still alive.\", file=sys.stderr)\n"
   ]
  },
  {
   "cell_type": "code",
   "execution_count": 2,
   "metadata": {},
   "outputs": [
    {
     "name": "stderr",
     "output_type": "stream",
     "text": [
      "report: still alive.\n"
     ]
    }
   ],
   "source": [
    "print(\"report: still alive.\", file=sys.stderr)\n"
   ]
  },
  {
   "cell_type": "code",
   "execution_count": null,
   "metadata": {},
   "outputs": [],
   "source": []
  }
 ],
 "metadata": {
  "kernelspec": {
   "display_name": "Python 3.9.7 ('base')",
   "language": "python",
   "name": "python3"
  },
  "language_info": {
   "codemirror_mode": {
    "name": "ipython",
    "version": 3
   },
   "file_extension": ".py",
   "mimetype": "text/x-python",
   "name": "python",
   "nbconvert_exporter": "python",
   "pygments_lexer": "ipython3",
   "version": "3.9.7"
  },
  "orig_nbformat": 4,
  "vscode": {
   "interpreter": {
    "hash": "69bb06a9fb724e3616bb36eae2c2891ed4de586fe76c0b350d4e65619dfe458e"
   }
  }
 },
 "nbformat": 4,
 "nbformat_minor": 2
}
